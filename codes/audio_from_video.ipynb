{
 "cells": [
  {
   "cell_type": "markdown",
   "metadata": {},
   "source": [
    "# 提取视频中的音频     .mp3格式"
   ]
  },
  {
   "cell_type": "code",
   "execution_count": 15,
   "metadata": {},
   "outputs": [
    {
     "name": "stdout",
     "output_type": "stream",
     "text": [
      "Extracting audio from ../Datas/hate_videos/hate_video_17.mp4 to ../Datas/extract_audio_files/hate_video_17.mp3\n",
      "No audio found in ../Datas/hate_videos/hate_video_17.mp4\n",
      "Extracting audio from ../Datas/hate_videos/hate_video_108.mp4 to ../Datas/extract_audio_files/hate_video_108.mp3\n",
      "No audio found in ../Datas/hate_videos/hate_video_108.mp4\n",
      "Extracting audio from ../Datas/non_hate_videos/non_hate_video_2.mp4 to ../Datas/extract_audio_files/non_hate_video_2.mp3\n",
      "No audio found in ../Datas/non_hate_videos/non_hate_video_2.mp4\n",
      "Extracting audio from ../Datas/non_hate_videos/non_hate_video_559.mp4 to ../Datas/extract_audio_files/non_hate_video_559.mp3\n",
      "No audio found in ../Datas/non_hate_videos/non_hate_video_559.mp4\n",
      "Extracting audio from ../Datas/non_hate_videos/non_hate_video_407.mp4 to ../Datas/extract_audio_files/non_hate_video_407.mp3\n",
      "No audio found in ../Datas/non_hate_videos/non_hate_video_407.mp4\n",
      "Extracting audio from ../Datas/non_hate_videos/non_hate_video_7.mp4 to ../Datas/extract_audio_files/non_hate_video_7.mp3\n",
      "No audio found in ../Datas/non_hate_videos/non_hate_video_7.mp4\n",
      "Extracting audio from ../Datas/non_hate_videos/non_hate_video_262.mp4 to ../Datas/extract_audio_files/non_hate_video_262.mp3\n",
      "No audio found in ../Datas/non_hate_videos/non_hate_video_262.mp4\n",
      "Extracting audio from ../Datas/non_hate_videos/non_hate_video_252.mp4 to ../Datas/extract_audio_files/non_hate_video_252.mp3\n",
      "No audio found in ../Datas/non_hate_videos/non_hate_video_252.mp4\n",
      "Extracting audio from ../Datas/non_hate_videos/non_hate_video_132.mp4 to ../Datas/extract_audio_files/non_hate_video_132.mp3\n",
      "No audio found in ../Datas/non_hate_videos/non_hate_video_132.mp4\n",
      "Extracting audio from ../Datas/non_hate_videos/non_hate_video_257.mp4 to ../Datas/extract_audio_files/non_hate_video_257.mp3\n",
      "No audio found in ../Datas/non_hate_videos/non_hate_video_257.mp4\n",
      "Extracting audio from ../Datas/non_hate_videos/non_hate_video_218.mp4 to ../Datas/extract_audio_files/non_hate_video_218.mp3\n",
      "No audio found in ../Datas/non_hate_videos/non_hate_video_218.mp4\n",
      "Extracting audio from ../Datas/non_hate_videos/non_hate_video_385.mp4 to ../Datas/extract_audio_files/non_hate_video_385.mp3\n",
      "No audio found in ../Datas/non_hate_videos/non_hate_video_385.mp4\n",
      "Extracting audio from ../Datas/non_hate_videos/non_hate_video_420.mp4 to ../Datas/extract_audio_files/non_hate_video_420.mp3\n",
      "No audio found in ../Datas/non_hate_videos/non_hate_video_420.mp4\n",
      "Extracting audio from ../Datas/non_hate_videos/non_hate_video_585.mp4 to ../Datas/extract_audio_files/non_hate_video_585.mp3\n",
      "No audio found in ../Datas/non_hate_videos/non_hate_video_585.mp4\n",
      "Extracting audio from ../Datas/non_hate_videos/non_hate_video_70.mp4 to ../Datas/extract_audio_files/non_hate_video_70.mp3\n",
      "No audio found in ../Datas/non_hate_videos/non_hate_video_70.mp4\n"
     ]
    }
   ],
   "source": [
    "from moviepy.editor import VideoFileClip\n",
    "import os\n",
    "\n",
    "# 目录路径\n",
    "hate_videos_dir = '../Datas/hate_videos' # 仇恨视频文件夹的路径\n",
    "non_hate_videos_dir = '../Datas/non_hate_videos' # 非仇恨视频文件夹的路径\n",
    "audio_output_dir = '../Datas/extract_audio_files' # 音频输出文件夹的路径\n",
    "\n",
    "# 确保音频输出目录存在\n",
    "if not os.path.exists(audio_output_dir):\n",
    "    os.makedirs(audio_output_dir)\n",
    "\n",
    "# 提取音频的函数\n",
    "def extract_audio_from_video(video_path, audio_output_path):\n",
    "    print(f\"Extracting audio from {video_path} to {audio_output_path}\")\n",
    "    video_clip = VideoFileClip(video_path)\n",
    "    # Check if the video has an audio track\n",
    "    if video_clip.audio is not None:\n",
    "        audio_clip = video_clip.audio\n",
    "        audio_clip.write_audiofile(audio_output_path)\n",
    "        audio_clip.close()\n",
    "    else:\n",
    "        print(f\"No audio found in {video_path}\")\n",
    "    video_clip.close()\n",
    "\n",
    "# 对两个文件夹中的所有视频提取音频\n",
    "for video_dir in [hate_videos_dir, non_hate_videos_dir]:\n",
    "    for video_file in os.listdir(video_dir):\n",
    "        if video_file.endswith('.mp4'):  # 确保处理的是视频文件\n",
    "            video_path = os.path.join(video_dir, video_file)\n",
    "            audio_output_path = os.path.join(audio_output_dir, video_file.replace('.mp4', '.mp3'))\n",
    "            if not os.path.exists(audio_output_path):\n",
    "                extract_audio_from_video(video_path, audio_output_path)\n",
    "            # extract_audio_from_video(video_path, audio_output_path)\n"
   ]
  },
  {
   "cell_type": "code",
   "execution_count": 11,
   "metadata": {},
   "outputs": [
    {
     "name": "stdout",
     "output_type": "stream",
     "text": [
      "Extracting audio from ../Datas/hate_videos/hate_video_4.mp4 to ../Datas/extract_audio_files/hate_video_4.mp3\n"
     ]
    },
    {
     "name": "stderr",
     "output_type": "stream",
     "text": [
      "chunk:  16%|█▌        | 625/3957 [50:50<00:01, 1942.71it/s, now=None]"
     ]
    },
    {
     "name": "stdout",
     "output_type": "stream",
     "text": [
      "MoviePy - Writing audio in ../Datas/extract_audio_files/hate_video_4.mp3\n"
     ]
    },
    {
     "name": "stderr",
     "output_type": "stream",
     "text": [
      "chunk:  16%|█▌        | 625/3957 [50:51<00:01, 1942.71it/s, now=None]"
     ]
    },
    {
     "name": "stdout",
     "output_type": "stream",
     "text": [
      "MoviePy - Done.\n"
     ]
    }
   ],
   "source": [
    "# 提取音频的函数\n",
    "def extract_audio_from_video(video_path, audio_output_path):\n",
    "    print(f\"Extracting audio from {video_path} to {audio_output_path}\")\n",
    "    video_clip = VideoFileClip(video_path)\n",
    "    # Check if the video has an audio track\n",
    "    if video_clip.audio is not None:\n",
    "        audio_clip = video_clip.audio\n",
    "        audio_clip.write_audiofile(audio_output_path)\n",
    "        audio_clip.close()\n",
    "    else:\n",
    "        print(f\"No audio found in {video_path}\")\n",
    "    video_clip.close()\n",
    "\n",
    "extract_audio_from_video('../Datas/hate_videos/hate_video_4.mp4', '../Datas/extract_audio_files/hate_video_4.mp3')"
   ]
  }
 ],
 "metadata": {
  "kernelspec": {
   "display_name": "base",
   "language": "python",
   "name": "python3"
  },
  "language_info": {
   "codemirror_mode": {
    "name": "ipython",
    "version": 3
   },
   "file_extension": ".py",
   "mimetype": "text/x-python",
   "name": "python",
   "nbconvert_exporter": "python",
   "pygments_lexer": "ipython3",
   "version": "3.11.8"
  }
 },
 "nbformat": 4,
 "nbformat_minor": 2
}
